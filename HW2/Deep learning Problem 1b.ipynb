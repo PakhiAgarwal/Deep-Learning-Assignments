{
 "cells": [
  {
   "cell_type": "code",
   "execution_count": 1,
   "metadata": {},
   "outputs": [],
   "source": [
    "import os \n",
    "import numpy as np\n",
    "from numpy import random\n",
    "import tensorflow as tf\n",
    "import pandas as pd  \n",
    "import matplotlib.pyplot as plt  \n",
    "import sys\n",
    "#You have freedom of using eager execution in tensorflow\n",
    "#Instead of using With tf.Session() as sess you can use sess.run() whenever needed\n",
    "plt.rcParams['figure.figsize'] = (10.0, 8.0) # set default size of plots\n",
    "plt.rcParams['image.interpolation'] = 'nearest'\n",
    "plt.rcParams['image.cmap'] = 'gray'"
   ]
  },
  {
   "cell_type": "raw",
   "metadata": {},
   "source": [
    "'''\n",
    "Submitted by - Pakhi Agarwal\n",
    "\n",
    "Problem 1b: Softmax Regression \\& the Spiral Problem\n",
    "@author - Alexander G. Ororbia II and Ankur Mali\n",
    "'''"
   ]
  },
  {
   "cell_type": "code",
   "execution_count": 2,
   "metadata": {},
   "outputs": [],
   "source": [
    "def computeGrad(X,y,theta,reg): # returns nabla\n",
    "# WRITEME: write your code here to complete the routine\n",
    "    W, b = theta[0], theta[1]\n",
    "    f = tf.matmul(X,W) + b\n",
    "    _, _, df = softmax_loss(f,y)\n",
    "    dW = tf.matmul(tf.transpose(X), df) + reg * W\n",
    "    db = tf.reduce_sum(df, axis=0)\n",
    "    return (dW,db)"
   ]
  },
  {
   "cell_type": "code",
   "execution_count": 3,
   "metadata": {},
   "outputs": [],
   "source": [
    "##############################################################\n",
    "def softmax_loss(X, y):\n",
    "# Forward pass\n",
    "    N = int(X.shape[0])\n",
    "    exp_vals = tf.exp(X)\n",
    "    probs = exp_vals / tf.reduce_sum(exp_vals, axis=1, keepdims=True)\n",
    "    loss = -np.mean(np.log(probs.eval()[range(N), y]))\n",
    "\n",
    "\n",
    "# Backward pass\n",
    "    dX = tf.convert_to_tensor(probs).eval()\n",
    "    dX[range(N), y] -= 1\n",
    "    dX /= N\n",
    "    return loss, probs, dX\n",
    "##############################################################\n"
   ]
  },
  {
   "cell_type": "code",
   "execution_count": 4,
   "metadata": {},
   "outputs": [],
   "source": [
    "def computeCost(X,y,theta,reg):\n",
    "    # WRITEME: write your code here to complete the routine\n",
    "    ############################\n",
    "    W, b = theta[0], theta[1]\n",
    "    N = X.shape[0]\n",
    "    f = tf.matmul(X,W) + b\n",
    "    data_loss, _, _ = softmax_loss(f,y)\n",
    "    reg_loss = 0.5 * reg * tf.reduce_sum(W**2)\n",
    "    cost = data_loss + reg_loss\n",
    "    \n",
    "    ###########################\n",
    "    return cost"
   ]
  },
  {
   "cell_type": "code",
   "execution_count": 5,
   "metadata": {},
   "outputs": [],
   "source": [
    "def predict(X,theta):\n",
    "    # WRITEME: write your code here to complete the routine\n",
    "    ###############################\n",
    "    W, b = theta[0], theta[1]\n",
    "    ##############################\n",
    "    # evaluate class scores\n",
    "    scores = tf.matmul(X,W) + b\n",
    "    # compute the class probabilities\n",
    "    _, probs, _ = softmax_loss(scores,y)\n",
    "\n",
    "    return (scores,probs)\n"
   ]
  },
  {
   "cell_type": "code",
   "execution_count": 6,
   "metadata": {},
   "outputs": [],
   "source": [
    "np.random.seed(0) #Provide your unique Random seed\n",
    "# Load in the data from disk\n",
    "path = os.getcwd() + '/spiral_train.dat'  \n",
    "data = pd.read_csv(path, header=None) \n"
   ]
  },
  {
   "cell_type": "code",
   "execution_count": 7,
   "metadata": {},
   "outputs": [],
   "source": [
    "# set X (training data) and y (target variable)\n",
    "cols = data.shape[1]  \n",
    "X = data.iloc[:,0:cols-1]  \n",
    "y = data.iloc[:,cols-1:cols] \n"
   ]
  },
  {
   "cell_type": "code",
   "execution_count": 8,
   "metadata": {},
   "outputs": [],
   "source": [
    "# convert from data frames to numpy matrices\n",
    "X = np.array(X.values)  \n",
    "y = np.array(y.values)\n",
    "y = y.flatten()\n",
    "\n",
    "X_tf = tf.constant(X)\n",
    "Y_tf = tf.constant(y)\n",
    "# initialize parameters randomly\n",
    "D = X.shape[1]\n",
    "K = np.amax(y) + 1"
   ]
  },
  {
   "cell_type": "code",
   "execution_count": 9,
   "metadata": {},
   "outputs": [],
   "source": [
    "#Train a Linear Classifier\n",
    "#You will be using X_tf and Y_tf within your session , numpy variables are provided to do sanity check\n",
    "# initialize parameters randomly\n",
    "initializer = tf.random_normal_initializer(mean=0.0, stddev=0.01, seed=None, dtype=tf.float64)\n",
    "W = tf.Variable(initializer([D, K]),dtype=tf.float64)\n",
    "b = tf.Variable(tf.random_normal([K],dtype=tf.float64),dtype=tf.float64)\n",
    "theta = (W,b)"
   ]
  },
  {
   "cell_type": "code",
   "execution_count": 10,
   "metadata": {},
   "outputs": [],
   "source": [
    "# some hyperparameters\n",
    "n_e = 100\n",
    "check = 10 # every so many pass/epochs, print loss/error to terminal\n",
    "#step_size = 1e-0\n",
    "step_size = 1.0\n",
    "reg = 0.001 # regularization strength\n",
    "\n",
    "loss_vs_epochs = []\n"
   ]
  },
  {
   "cell_type": "code",
   "execution_count": 11,
   "metadata": {},
   "outputs": [
    {
     "name": "stdout",
     "output_type": "stream",
     "text": [
      "WARNING:tensorflow:From /Library/Frameworks/Python.framework/Versions/2.7/lib/python2.7/site-packages/tensorflow/python/util/tf_should_use.py:118: initialize_all_variables (from tensorflow.python.ops.variables) is deprecated and will be removed after 2017-03-02.\n",
      "Instructions for updating:\n",
      "Use `tf.global_variables_initializer` instead.\n",
      "iteration 0: loss 1.780779\n",
      "iteration 1: loss 1.398295\n",
      "iteration 2: loss 1.181821\n",
      "iteration 3: loss 1.076710\n",
      "iteration 4: loss 1.023945\n",
      "iteration 5: loss 0.993006\n",
      "iteration 6: loss 0.971601\n",
      "iteration 7: loss 0.954907\n",
      "iteration 8: loss 0.940926\n",
      "iteration 9: loss 0.928759\n",
      "iteration 10: loss 0.917950\n",
      "iteration 11: loss 0.908240\n",
      "iteration 12: loss 0.899459\n",
      "iteration 13: loss 0.891484\n",
      "iteration 14: loss 0.884218\n",
      "iteration 15: loss 0.877583\n",
      "iteration 16: loss 0.871509\n",
      "iteration 17: loss 0.865938\n",
      "iteration 18: loss 0.860820\n",
      "iteration 19: loss 0.856110\n",
      "iteration 20: loss 0.851767\n",
      "iteration 21: loss 0.847757\n",
      "iteration 22: loss 0.844049\n",
      "iteration 23: loss 0.840615\n",
      "iteration 24: loss 0.837431\n",
      "iteration 25: loss 0.834474\n",
      "iteration 26: loss 0.831725\n",
      "iteration 27: loss 0.829166\n",
      "iteration 28: loss 0.826781\n",
      "iteration 29: loss 0.824556\n",
      "iteration 30: loss 0.822478\n",
      "iteration 31: loss 0.820535\n",
      "iteration 32: loss 0.818717\n",
      "iteration 33: loss 0.817014\n",
      "iteration 34: loss 0.815417\n",
      "iteration 35: loss 0.813918\n",
      "iteration 36: loss 0.812511\n",
      "iteration 37: loss 0.811188\n",
      "iteration 38: loss 0.809943\n",
      "iteration 39: loss 0.808772\n",
      "iteration 40: loss 0.807668\n",
      "iteration 41: loss 0.806627\n",
      "iteration 42: loss 0.805646\n",
      "iteration 43: loss 0.804719\n",
      "iteration 44: loss 0.803844\n",
      "iteration 45: loss 0.803016\n",
      "iteration 46: loss 0.802234\n",
      "iteration 47: loss 0.801493\n",
      "iteration 48: loss 0.800792\n",
      "iteration 49: loss 0.800128\n",
      "iteration 50: loss 0.799499\n",
      "iteration 51: loss 0.798902\n",
      "iteration 52: loss 0.798335\n",
      "iteration 53: loss 0.797798\n",
      "iteration 54: loss 0.797287\n",
      "iteration 55: loss 0.796803\n",
      "iteration 56: loss 0.796342\n",
      "iteration 57: loss 0.795904\n",
      "iteration 58: loss 0.795487\n",
      "iteration 59: loss 0.795090\n",
      "iteration 60: loss 0.794713\n",
      "iteration 61: loss 0.794353\n",
      "iteration 62: loss 0.794010\n",
      "iteration 63: loss 0.793684\n",
      "iteration 64: loss 0.793373\n",
      "iteration 65: loss 0.793076\n",
      "iteration 66: loss 0.792793\n",
      "iteration 67: loss 0.792523\n",
      "iteration 68: loss 0.792265\n",
      "iteration 69: loss 0.792019\n",
      "iteration 70: loss 0.791784\n",
      "iteration 71: loss 0.791560\n",
      "iteration 72: loss 0.791345\n",
      "iteration 73: loss 0.791140\n",
      "iteration 74: loss 0.790944\n",
      "iteration 75: loss 0.790757\n",
      "iteration 76: loss 0.790577\n",
      "iteration 77: loss 0.790406\n",
      "iteration 78: loss 0.790242\n",
      "iteration 79: loss 0.790084\n",
      "iteration 80: loss 0.789934\n",
      "iteration 81: loss 0.789790\n",
      "iteration 82: loss 0.789652\n",
      "iteration 83: loss 0.789519\n",
      "iteration 84: loss 0.789393\n",
      "iteration 85: loss 0.789271\n",
      "iteration 86: loss 0.789155\n",
      "iteration 87: loss 0.789043\n",
      "iteration 88: loss 0.788936\n",
      "iteration 89: loss 0.788834\n",
      "iteration 90: loss 0.788735\n",
      "iteration 91: loss 0.788641\n",
      "iteration 92: loss 0.788550\n",
      "iteration 93: loss 0.788463\n",
      "iteration 94: loss 0.788379\n",
      "iteration 95: loss 0.788299\n",
      "iteration 96: loss 0.788222\n",
      "iteration 97: loss 0.788148\n",
      "iteration 98: loss 0.788077\n",
      "iteration 99: loss 0.788009\n",
      "training accuracy: 49.00%\n"
     ]
    }
   ],
   "source": [
    "# gradient descent loop\n",
    "init = tf.initialize_all_variables()\n",
    "with tf.Session() as sess:\n",
    "    sess.run(init)\n",
    "    for i in xrange(n_e):\n",
    "        #print(i)\n",
    "        # WRITEME: write your code here to perform a step of gradient descent & record anything else desired for later\n",
    "        ################################################\n",
    "        theta = (W, b)\n",
    "        loss = computeCost(X,y,theta,reg).eval()\n",
    "        loss_vs_epochs.append(loss)\n",
    "        \n",
    "        ###############################################\n",
    "        \n",
    "        if True:\n",
    "            print \"iteration %d: loss %f\" % (i, loss)\n",
    "\n",
    "        # perform a parameter update\n",
    "        # WRITEME: write your update rule(s) here\n",
    "        \n",
    "        ################################################\n",
    "        dW, db = computeGrad(X,y,theta,reg)\n",
    "        W = W - step_size*dW\n",
    "        b = b - step_size*db\n",
    "        \n",
    "        ##############################################\n",
    " \n",
    "# TODO: remove this line below once you have correctly implemented/gradient-checked your various sub-routines\n",
    "#sys.exit(0) \n",
    "  \n",
    "# evaluate training set accuracy\n",
    "    scores, probs = predict(X,theta)\n",
    "    predicted_class = sess.run(tf.argmax(scores, axis=1)) \n",
    "    print ('training accuracy: %.2f%%' % (100*np.mean(predicted_class == y)))\n",
    "    \n",
    "\n"
   ]
  },
  {
   "cell_type": "code",
   "execution_count": 12,
   "metadata": {},
   "outputs": [
    {
     "data": {
      "image/png": "[encoded data removed]",
      "text/plain": [
       "<Figure size 432x288 with 1 Axes>"
      ]
     },
     "metadata": {},
     "output_type": "display_data"
    },
    {
     "data": {
      "image/png": "[encoded data removed]",
      "text/plain": [
       "<Figure size 432x288 with 1 Axes>"
      ]
     },
     "metadata": {},
     "output_type": "display_data"
    }
   ],
   "source": [
    "# plot the resulting classifier\n",
    "h = 0.02\n",
    "\n",
    "x_min, x_max = X[:, 0].min() - 1, X[:, 0].max() + 1\n",
    "y_min, y_max = X[:, 1].min() - 1, X[:, 1].max() + 1\n",
    "xx, yy = np.meshgrid(np.arange(x_min, x_max, h), np.arange(y_min, y_max, h))\n",
    "xx1 = xx.ravel()\n",
    "yy1 = yy.ravel()\n",
    "\n",
    "with tf.Session() as sess:\n",
    "    sess.run(init)\n",
    "    Z = np.dot(np.c_[xx1, yy1], W.eval()) + b.eval()\n",
    "    \n",
    "Z = np.argmax(Z, axis=1)\n",
    "Z = Z.reshape(xx.shape)\n",
    "fig = plt.figure()\n",
    "plt.contourf(xx, yy, Z, cmap=plt.cm.Spectral, alpha=0.8)\n",
    "plt.scatter(X[:, 0], X[:, 1], c=y, s=40, cmap=plt.cm.Spectral)\n",
    "plt.xlim(xx.min(), xx.max())\n",
    "plt.ylim(yy.min(), yy.max())\n",
    "#fig.savefig('spiral_linear.png')\n",
    "plt.savefig(os.getcwd() + '/DLAssign2Problem1b/spiral_linear')\n",
    "\n",
    "plt.show()\n",
    "\n",
    "plt.figure()\n",
    "plt.plot(loss_vs_epochs, color = 'b', label = \"Loss\")\n",
    "plt.xlabel(\"epochs\")\n",
    "plt.ylabel(\"loss\")\n",
    "plt.title(\"Loss vs Epochs\")\n",
    "plt.legend(loc=\"best\")\n",
    "plt.savefig(os.getcwd() + '/DLAssign2Problem1b/Loss vs Epoch')\n",
    "plt.show() # convenience command to force plots to pop up on desktop\n",
    "\n"
   ]
  },
  {
   "cell_type": "code",
   "execution_count": null,
   "metadata": {},
   "outputs": [],
   "source": []
  }
 ],
 "metadata": {
  "kernelspec": {
   "display_name": "Python 2",
   "language": "python",
   "name": "python2"
  },
  "language_info": {
   "codemirror_mode": {
    "name": "ipython",
    "version": 2
   },
   "file_extension": ".py",
   "mimetype": "text/x-python",
   "name": "python",
   "nbconvert_exporter": "python",
   "pygments_lexer": "ipython2",
   "version": "2.7.13"
  }
 },
 "nbformat": 4,
 "nbformat_minor": 2
}
