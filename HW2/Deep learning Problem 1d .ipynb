{
 "cells": [
  {
   "cell_type": "code",
   "execution_count": 1,
   "metadata": {},
   "outputs": [],
   "source": [
    "import os \n",
    "import numpy as np\n",
    "from numpy import random\n",
    "import tensorflow as tf\n",
    "import pandas as pd  \n",
    "import matplotlib.pyplot as plt  \n",
    "import sys\n",
    "#You have freedom of using eager execution in tensorflow\n",
    "#Instead of using With tf.Session() as sess you can use sess.run() whenever needed\n",
    "\n",
    "plt.rcParams['figure.figsize'] = (10.0, 8.0) # set default size of plots\n",
    "plt.rcParams['image.interpolation'] = 'nearest'\n",
    "plt.rcParams['image.cmap'] = 'gray'\n",
    "\n"
   ]
  },
  {
   "cell_type": "raw",
   "metadata": {},
   "source": [
    "'''\n",
    "Submitted by - Pakhi Agarwal\n",
    "\n",
    "Problem 1d: MLPs \\& the Spiral Problem\n",
    "@author - Alexander G. Ororbia II and Ankur Mali\n",
    "'''"
   ]
  },
  {
   "cell_type": "code",
   "execution_count": 2,
   "metadata": {},
   "outputs": [],
   "source": [
    "def softmax_loss(X, y):\n",
    "# Forward pass\n",
    "    N = int(X.shape[0])\n",
    "    X -= tf.reduce_max(X, axis=1, keepdims=True)\n",
    "    exp_vals = tf.exp(X)\n",
    "    probs = exp_vals / tf.reduce_sum(exp_vals)\n",
    "    loss = -np.mean(np.log(probs.eval()[range(N), y]))\n",
    "\n",
    "# Backward pass\n",
    "    dX = tf.convert_to_tensor(probs).eval()\n",
    "    dX[range(N), y] -= 1\n",
    "    dX /= N\n",
    "    return loss, probs, dX"
   ]
  },
  {
   "cell_type": "code",
   "execution_count": 3,
   "metadata": {},
   "outputs": [],
   "source": [
    "def computeCost(X,y,theta,reg):\n",
    "    # WRITEME: write your code here to complete the routine\n",
    "    ###########################################\n",
    "    \n",
    "    W1, b1, W2, b2 = theta[0], theta[1], theta[2], theta[3]\n",
    "    z = tf.matmul(X,W1) + b1       # FC1\n",
    "    h = tf.maximum(tf.cast(0,tf.float64), tf.cast(z, tf.float64))     # ReLU\n",
    "    f = tf.matmul(h,W2) + b2       # FC2\n",
    "    data_loss, _, _ = softmax_loss(f, y) # Softmax\n",
    "    reg_loss = 0.5 * reg * tf.reduce_sum(W1**2) + 0.5 * reg * tf.reduce_sum(W2**2)\n",
    "    loss = data_loss + reg_loss\n",
    "    \n",
    "    ###########################################\n",
    "    \n",
    "    return loss"
   ]
  },
  {
   "cell_type": "code",
   "execution_count": 4,
   "metadata": {},
   "outputs": [],
   "source": [
    "def computeGrad(X,y,theta,reg): # returns nabla\n",
    "    \n",
    "    ############################################\n",
    "    W1, b1, W2, b2 = theta[0], theta[1], theta[2], theta[3]\n",
    "    z = tf.matmul(X,W1) + b1         # FC1\n",
    "    h = tf.maximum(tf.cast(0,tf.float64), tf.cast(z,tf.float64))       # ReLU\n",
    "    f = tf.matmul(h,W2) + b2         # FC2\n",
    "    _, _, df = softmax_loss(f, y) # Softmax\n",
    "    dh = tf.matmul(df,tf.transpose(W2))\n",
    "    dz = tf.convert_to_tensor(dh).eval()\n",
    "    dz[z.eval() <= 0] = 0\n",
    "    \n",
    "    ############################################\n",
    "    \n",
    "    # WRITEME: write your code here to complete the routine\n",
    "   \n",
    "    ############################################\n",
    "    dW2 = tf.matmul(tf.transpose(h), df) + reg * W2\n",
    "    db2 = tf.reduce_sum(df, axis=0)\n",
    "    dW1 = tf.matmul(tf.transpose(X), dz) + reg * W1\n",
    "    db1 = tf.reduce_sum(dz, axis=0)\n",
    "    \n",
    "    ############################################\n",
    "    \n",
    "    return dW1,db1,dW2,db2"
   ]
  },
  {
   "cell_type": "code",
   "execution_count": 5,
   "metadata": {},
   "outputs": [],
   "source": [
    "def predict(X,theta):\n",
    "    # WRITEME: write your code here to complete the routine\n",
    "    \n",
    "    ##################################################\n",
    "    W1, b1, W2, b2 = theta[0], theta[1], theta[2], theta[3]\n",
    "    z = tf.matmul(X,W1) + b1         # FC1\n",
    "    h = tf.maximum(tf.cast(0,tf.float64), tf.cast(z,tf.float64))       # ReLU\n",
    "    scores = tf.matmul(h,W2) + b2         # FC2\n",
    "    probs = tf.exp(scores - tf.reduce_max(scores, axis=1, keepdims=True))\n",
    "    probs /= tf.reduce_sum(probs, axis=1, keepdims=True)\n",
    "    \n",
    "    #################################################\n",
    "    return scores,probs"
   ]
  },
  {
   "cell_type": "code",
   "execution_count": 6,
   "metadata": {},
   "outputs": [],
   "source": [
    "np.random.seed(0)\n",
    "# Load in the data from disk\n",
    "path = os.getcwd() + '/spiral_train.dat'  \n",
    "data = pd.read_csv(path, header=None) "
   ]
  },
  {
   "cell_type": "code",
   "execution_count": 7,
   "metadata": {},
   "outputs": [],
   "source": [
    "# set X (training data) and y (target variable)\n",
    "cols = data.shape[1]  \n",
    "X = data.iloc[:,0:cols-1]  \n",
    "y = data.iloc[:,cols-1:cols] "
   ]
  },
  {
   "cell_type": "code",
   "execution_count": 8,
   "metadata": {},
   "outputs": [],
   "source": [
    "# convert from data frames to numpy matrices\n",
    "X = np.array(X.values)  \n",
    "y = np.array(y.values)\n",
    "y = y.flatten()\n",
    "X_tf = tf.constant(X)\n",
    "Y_tf = tf.constant(y)\n",
    "# initialize parameters randomly\n",
    "D = X.shape[1]\n",
    "K = np.amax(y) + 1"
   ]
  },
  {
   "cell_type": "code",
   "execution_count": 9,
   "metadata": {},
   "outputs": [],
   "source": [
    "# initialize parameters randomly\n",
    "h = 300 # size of hidden layer\n",
    "initializer = tf.random_normal_initializer(mean=0.0, stddev=0.01, seed=None, dtype=tf.float64)\n",
    "W = tf.Variable(initializer([D, h]),dtype=tf.float64)\n",
    "b = tf.Variable(tf.random_normal([h], dtype=tf.float64),dtype=tf.float64)\n",
    "W2 = tf.Variable(initializer([h, K]),dtype=tf.float64)\n",
    "b2 = tf.Variable(tf.random_normal([K],dtype=tf.float64),dtype=tf.float64)\n",
    "theta = (W,b,W2,b2)\n"
   ]
  },
  {
   "cell_type": "code",
   "execution_count": 10,
   "metadata": {},
   "outputs": [],
   "source": [
    "# some hyperparameters\n",
    "n_e = 100\n",
    "check = 10 # every so many pass/epochs, print loss/error to terminal\n",
    "step_size = 0.001\n",
    "reg = 0.0001 # regularization strength\n",
    "loss_vs_epochs = []"
   ]
  },
  {
   "cell_type": "code",
   "execution_count": 11,
   "metadata": {},
   "outputs": [
    {
     "name": "stdout",
     "output_type": "stream",
     "text": [
      "WARNING:tensorflow:From C:\\Anaconda3\\envs\\tensorflow\\lib\\site-packages\\tensorflow\\python\\util\\tf_should_use.py:189: initialize_all_variables (from tensorflow.python.ops.variables) is deprecated and will be removed after 2017-03-02.\n",
      "Instructions for updating:\n",
      "Use `tf.global_variables_initializer` instead.\n",
      "iteration 0: loss 7.227828\n",
      "iteration 10: loss 7.227006\n",
      "iteration 20: loss 7.226185\n",
      "iteration 30: loss 7.225364\n",
      "iteration 40: loss 7.224543\n",
      "iteration 50: loss 7.223722\n",
      "iteration 60: loss 7.222902\n",
      "iteration 70: loss 7.222081\n",
      "iteration 80: loss 7.221261\n",
      "iteration 90: loss 7.220441\n",
      "training accuracy: 33.33%\n"
     ]
    }
   ],
   "source": [
    "# gradient descent loop\n",
    "init = tf.initialize_all_variables()\n",
    "with tf.Session() as sess:\n",
    "    \n",
    "    sess.run(init)\n",
    "\n",
    "\n",
    "    for i in range(n_e):\n",
    "        # WRITEME: write your code here to perform a step of gradient descent & record anything else desired for later\n",
    "        #loss = 0.0\n",
    "        #######################################\n",
    "        theta = (W, b, W2, b2)\n",
    "        loss = computeCost(X,y,theta,reg).eval()\n",
    "        loss_vs_epochs.append(loss)\n",
    "        #######################################\n",
    "        if i % check == 0:\n",
    "            print (\"iteration %d: loss %f\" % (i, loss))\n",
    "\n",
    "        # perform a parameter update\n",
    "        # WRITEME: write your update rule(s) here\n",
    "        \n",
    "        ##########################################\n",
    "        dW1, db1, dW2, db2 = computeGrad(X,y,theta,reg)\n",
    "        W = W - step_size * dW1\n",
    "        b = b - step_size * db1\n",
    "        W2 = W2 - step_size * dW2\n",
    "        b2 = b2 - step_size * db2\n",
    "        ##########################################\n",
    "    \n",
    " \n",
    "# TODO: remove this line below once you have correctly implemented/gradient-checked your various sub-routines\n",
    "#sys.exit(0) \n",
    "  \n",
    "    scores, probs = predict(X,theta)\n",
    "    predicted_class = sess.run(tf.argmax(scores, axis=1))\n",
    "    #print ('training accuracy: %.2f' % (sess.run(tf.reduce_mean(predicted_class == y))))\n",
    "    print ('training accuracy: %.2f%%' % (100*np.mean(predicted_class == y)))\n",
    "\n",
    "\n"
   ]
  },
  {
   "cell_type": "code",
   "execution_count": 12,
   "metadata": {},
   "outputs": [
    {
     "data": {
      "image/png": "[encoded data removed]",
      "text/plain": [
       "<Figure size 432x288 with 1 Axes>"
      ]
     },
     "metadata": {
      "needs_background": "light"
     },
     "output_type": "display_data"
    },
    {
     "data": {
      "image/png": "[encoded data removed]",
      "text/plain": [
       "<Figure size 432x288 with 1 Axes>"
      ]
     },
     "metadata": {
      "needs_background": "light"
     },
     "output_type": "display_data"
    }
   ],
   "source": [
    "# plot the resulting classifier\n",
    "h = 0.02\n",
    "x_min, x_max = X[:, 0].min() - 1, X[:, 0].max() + 1\n",
    "y_min, y_max = X[:, 1].min() - 1, X[:, 1].max() + 1\n",
    "xx, yy = np.meshgrid(np.arange(x_min, x_max, h),\n",
    "                     np.arange(y_min, y_max, h))\n",
    "\n",
    "xx1 = xx.ravel()\n",
    "yy1 = yy.ravel()\n",
    "\n",
    "with tf.Session() as sess:\n",
    "    sess.run(init)\n",
    "    Z, P = predict(np.c_[xx1,yy1],theta)\n",
    "    ZZZ = Z.eval()\n",
    "\n",
    "ZZ = []\n",
    "for _ in range(ZZZ.shape[0]):\n",
    "    ZZ.append(np.argmax(ZZZ[i]))\n",
    "    \n",
    "Z = np.reshape(ZZ, xx.shape)\n",
    "fig = plt.figure()\n",
    "plt.contourf(xx, yy, Z, cmap=plt.cm.Spectral, alpha=0.8)\n",
    "plt.scatter(X[:, 0], X[:, 1], c=y, s=40, cmap=plt.cm.Spectral)\n",
    "plt.xlim(xx.min(), xx.max())\n",
    "plt.ylim(yy.min(), yy.max())\n",
    "plt.title('spiral_net')\n",
    "plt.savefig(os.getcwd() + '/DLAssign2Problem1d/spiral_net')\n",
    "plt.show()\n",
    "\n",
    "plt.figure()\n",
    "plt.plot(loss_vs_epochs, color = 'b', label = \"Loss\")\n",
    "plt.xlabel(\"epochs\")\n",
    "plt.ylabel(\"loss\")\n",
    "plt.title(\"Loss vs Epochs\")\n",
    "plt.legend(loc=\"best\")\n",
    "plt.savefig(os.getcwd() + '/DLAssign2Problem1d/Loss vs Epoch')\n",
    "plt.show() # convenience command to force plots to pop up on desktop\n"
   ]
  },
  {
   "cell_type": "code",
   "execution_count": null,
   "metadata": {},
   "outputs": [],
   "source": []
  },
  {
   "cell_type": "code",
   "execution_count": null,
   "metadata": {},
   "outputs": [],
   "source": []
  }
 ],
 "metadata": {
  "kernelspec": {
   "display_name": "Python 3",
   "language": "python",
   "name": "python3"
  },
  "language_info": {
   "codemirror_mode": {
    "name": "ipython",
    "version": 3
   },
   "file_extension": ".py",
   "mimetype": "text/x-python",
   "name": "python",
   "nbconvert_exporter": "python",
   "pygments_lexer": "ipython3",
   "version": "3.6.7"
  }
 },
 "nbformat": 4,
 "nbformat_minor": 2
}
