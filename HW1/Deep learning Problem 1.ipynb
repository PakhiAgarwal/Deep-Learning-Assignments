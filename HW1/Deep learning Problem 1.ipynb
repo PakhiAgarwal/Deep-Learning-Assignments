{
 "cells": [
  {
   "cell_type": "code",
   "execution_count": 1,
   "metadata": {},
   "outputs": [],
   "source": [
    "import os  \n",
    "import tensorflow as tf\n",
    "import pandas as pd  \n",
    "import matplotlib.pyplot as plt \n",
    "import numpy as np \n",
    "import random\n"
   ]
  },
  {
   "cell_type": "code",
   "execution_count": null,
   "metadata": {},
   "outputs": [],
   "source": [
    "'''\n",
    "Submitted by - Pakhi Agarwal\n",
    "\n",
    "IST 597: Foundations of Deep Learning\n",
    "Problem 1: Univariate Regression\n",
    "\n",
    "@author - Alexander G. Ororbia II and Ankur Mali\n",
    "\n",
    "    This program is free software: you can redistribute it and/or modify\n",
    "    it under the terms of the GNU General Public License as published by\n",
    "    the Free Software Foundation, either version 3 of the License, or\n",
    "    (at your option) any later version.\n",
    "\n",
    "    This program is distributed in the hope that it will be useful,\n",
    "    but WITHOUT ANY WARRANTY; without even the implied warranty of\n",
    "    MERCHANTABILITY or FITNESS FOR A PARTICULAR PURPOSE.  See the\n",
    "    GNU General Public License for more details.\n",
    "\n",
    "    You should have received a copy of the GNU General Public License\n",
    "    along with this program.  If not, see <http://www.gnu.org/licenses/>.\n",
    "'''\n",
    "\n"
   ]
  },
  {
   "cell_type": "code",
   "execution_count": 2,
   "metadata": {},
   "outputs": [],
   "source": [
    "# NOTE: you will need to tinker with the meta-parameters below yourself (do not think of them as defaults by any means)\n",
    "# meta-parameters for program\n",
    "alpha = 0.015 # step size coefficient\n",
    "eps = 0.00001 # controls convergence criterion\n",
    "#n_epoch = 10000 # number of epochs (full passes through the dataset)\n",
    "n_epoch = 1200 # number of epochs (full passes through the dataset)\n",
    "\n",
    "# begin simulation"
   ]
  },
  {
   "cell_type": "code",
   "execution_count": 3,
   "metadata": {},
   "outputs": [],
   "source": [
    "def regress(X, theta):\n",
    "    # WRITEME: write your code here to complete the routine\n",
    "    bias, weight = theta\n",
    "    return bias + weight * X\n",
    "    # return tf.add(bias, tf.matmul(weight, X))"
   ]
  },
  {
   "cell_type": "code",
   "execution_count": 4,
   "metadata": {},
   "outputs": [],
   "source": [
    "def gaussian_log_likelihood(mu, y):\n",
    "    # WRITEME: write your code here to complete the sub-routine\n",
    "    gauss = tf.reduce_sum(tf.pow(mu - y,2))\n",
    "    return -0.5 * gauss\n",
    "    "
   ]
  },
  {
   "cell_type": "code",
   "execution_count": 5,
   "metadata": {},
   "outputs": [],
   "source": [
    "def computeCost(X, y, theta): # loss is now Bernoulli cross-entropy/log likelihood\n",
    "    # WRITEME: write your code here to complete the routine\n",
    "    z = regress(X,theta)\n",
    "    t = z-y\n",
    "    b = t ** 2\n",
    "    s = 2*len(X)\n",
    "    a = (tf.reduce_sum (b))/s\n",
    "    return a"
   ]
  },
  {
   "cell_type": "code",
   "execution_count": 6,
   "metadata": {},
   "outputs": [],
   "source": [
    "def computeGrad(X, y, theta): \n",
    "    # WRITEME: write your code here to complete the routine\n",
    "    # NOTE: you do not have to use the partial derivative symbols below, they are there to guide your thinking)\n",
    "    z = regress(X,theta)\n",
    "    t = z-y\n",
    "    \n",
    "    dL_dfy = None # derivative w.r.t. to model output units (fy)\n",
    "    \n",
    "    dL_db = (tf.reduce_sum(t))/(len(X)) # derivative w.r.t. model weights w\n",
    "    dL_dw = (tf.matmul(tf.transpose(X),(t)))/(len(X)) # derivative w.r.t model bias b\n",
    "    \n",
    "    nabla = (dL_db, dL_dw) # nabla represents the full gradient\n",
    "    return nabla"
   ]
  },
  {
   "cell_type": "code",
   "execution_count": 7,
   "metadata": {},
   "outputs": [
    {
     "name": "stdout",
     "output_type": "stream",
     "text": [
      "-------- Information About DATA --------\n",
      "               X          Y\n",
      "count  97.000000  97.000000\n",
      "mean    8.159800   5.839135\n",
      "std     3.869884   5.510262\n",
      "min     5.026900  -2.680700\n",
      "25%     5.707700   1.986900\n",
      "50%     6.589400   4.562300\n",
      "75%     8.578100   7.046700\n",
      "max    22.203000  24.147000\n",
      "________________________________________\n"
     ]
    },
    {
     "data": {
      "image/png": "[encoded data removed]",
      "text/plain": [
       "<Figure size 432x288 with 1 Axes>"
      ]
     },
     "metadata": {},
     "output_type": "display_data"
    }
   ],
   "source": [
    "path = os.getcwd() + '/prob1.dat'  \n",
    "data = pd.read_csv(path, header=None, names=['X', 'Y']) \n",
    "\n",
    "# display some information about the dataset itself here\n",
    "\n",
    "################################################\n",
    "\n",
    "print '-------- Information About DATA --------'\n",
    "print data.describe()\n",
    "print '________________________________________'\n",
    "\n",
    "###############################################\n",
    "\n",
    "# WRITEME: write your code here to print out information/statistics about the data-set \"data\" using Pandas (consult the Pandas documentation to learn how)\n",
    "\n",
    "##################################\n",
    "\n",
    "#calculating mean of input\n",
    "mean_X = data['X'].mean()\n",
    "#calculating variance of input\n",
    "var_X = data['X'].var() \n",
    "\n",
    "#################################\n",
    "\n",
    "# WRITEME: write your code here to create a simple scatterplot of the dataset itself and print/save to disk the result\n",
    "\n",
    "#####################################################\n",
    "\n",
    "plt.figure()\n",
    "plt.scatter(data['X'], data['Y'], label=\"Data\")\n",
    "plt.xlabel(\"x\")\n",
    "plt.ylabel(\"y\")\n",
    "plt.legend(loc=\"best\")\n",
    "plt.title(\"Scatter Plot of Dataset\")\n",
    "plt.savefig(os.getcwd() + '/DLAssign1Problem1/ Scatter Plot of Dataset')\n",
    "\n",
    "######################################################"
   ]
  },
  {
   "cell_type": "code",
   "execution_count": 8,
   "metadata": {},
   "outputs": [],
   "source": [
    "# set X (training data) and y (target variable)\n",
    "cols = data.shape[1]  \n",
    "X = data.iloc[:,0:cols-1]  \n",
    "y = data.iloc[:,cols-1:cols] "
   ]
  },
  {
   "cell_type": "code",
   "execution_count": 9,
   "metadata": {},
   "outputs": [],
   "source": [
    "# convert from data frames to numpy matrices\n",
    "X = np.array(X.values)  \n",
    "y = np.array(y.values)"
   ]
  },
  {
   "cell_type": "code",
   "execution_count": 10,
   "metadata": {},
   "outputs": [],
   "source": [
    "#TODO convert np array to tensor objects\n",
    "\n",
    "#TODO create an placeholder variable for X(input) and Y(output)\n",
    "\n",
    "x_tensor = tf.placeholder(dtype=tf.float64, shape=(None,X.shape[1]))\n",
    "y_tensor = tf.placeholder(dtype=tf.float64, shape=(None, y.shape[1]))\n",
    "\n",
    "# convert to numpy arrays and initalize the parameter array theta \n",
    "\n",
    "################################################################\n",
    "\n",
    "random.seed(1611189)\n",
    "w0 = random.random()\n",
    "b0 = random.random()\n",
    "\n",
    "w = tf.constant(w0, dtype=tf.float64)\n",
    "b = tf.constant(b0, dtype=tf.float64)\n",
    "# b = tf.convert_to_tensor([0]) # converting to tensor\n",
    "theta = (b, w)\n",
    "\n",
    "################################################################"
   ]
  },
  {
   "cell_type": "code",
   "execution_count": 11,
   "metadata": {},
   "outputs": [
    {
     "name": "stdout",
     "output_type": "stream",
     "text": [
      "-1 L = Tensor(\"div:0\", shape=(), dtype=float64)\n",
      " 0 L = 7.14759501263\n",
      " 20 L = 5.84300986851\n",
      " 40 L = 5.70279468292\n",
      " 60 L = 5.57697169666\n",
      " 80 L = 5.46406364176\n",
      " 100 L = 5.36274488244\n",
      " 120 L = 5.27182585104\n",
      " 140 L = 5.19023908145\n",
      " 160 L = 5.11702667621\n",
      " 180 L = 5.05132905992\n",
      " 200 L = 4.99237488719\n",
      " 220 L = 4.9394719863\n",
      " 240 L = 4.89199923259\n",
      " 260 L = 4.8493992559\n",
      " 280 L = 4.81117189658\n",
      " 300 L = 4.77686833319\n",
      " 320 L = 4.74608581297\n",
      " 340 L = 4.71846292318\n",
      " 360 L = 4.6936753478\n",
      " 380 L = 4.67143205979\n",
      " 400 L = 4.65147190418\n",
      " 420 L = 4.63356053193\n",
      " 440 L = 4.61748764842\n",
      " 460 L = 4.60306454444\n",
      " 480 L = 4.59012188059\n",
      " 500 L = 4.57850769908\n",
      " 520 L = 4.56808563962\n",
      " 540 L = 4.55873333846\n",
      " 560 L = 4.55034099168\n",
      " 580 L = 4.54281006606\n",
      " 600 L = 4.53605214218\n",
      " 620 L = 4.52998787631\n",
      " 640 L = 4.52454606887\n",
      " 660 L = 4.51966282844\n",
      " 680 L = 4.51528082167\n",
      " 700 L = 4.51134860009\n",
      " 720 L = 4.50781999611\n",
      " 740 L = 4.50465358095\n",
      " 760 L = 4.50181217821\n",
      " 780 L = 4.49926242744\n",
      " 800 L = 4.49697439242\n",
      " 820 L = 4.49492120967\n",
      " 840 L = 4.49307877311\n",
      " 860 L = 4.49142545097\n",
      " 880 L = 4.48994183187\n",
      " 900 L = 4.48861049685\n",
      " 920 L = 4.48741581493\n",
      " 940 L = 4.48634375952\n",
      " 960 L = 4.48538174381\n",
      " 980 L = 4.4845184729\n",
      " 1000 L = 4.48374381128\n",
      " 1020 L = 4.48304866376\n",
      " 1040 L = 4.48242486872\n",
      " 1060 L = 4.48186510228\n",
      " 1080 L = 4.48136279232\n",
      " 1100 L = 4.48091204129\n",
      " 1120 L = 4.48050755699\n",
      " 1140 L = 4.48014459045\n",
      " 1160 L = 4.47981888011\n",
      " 1180 L = 4.47952660187\n",
      "('w=', array([[1.17704708]]))\n",
      "('b=', -3.7366486055213057)\n"
     ]
    },
    {
     "data": {
      "image/png": "[encoded data removed]",
      "text/plain": [
       "<Figure size 432x288 with 1 Axes>"
      ]
     },
     "metadata": {},
     "output_type": "display_data"
    },
    {
     "data": {
      "image/png": "[encoded data removed]",
      "text/plain": [
       "<Figure size 432x288 with 1 Axes>"
      ]
     },
     "metadata": {},
     "output_type": "display_data"
    }
   ],
   "source": [
    "L = computeCost(X, y, theta)\n",
    "print(\"-1 L = {0}\".format(L))\n",
    "L_best = L\n",
    "i =0 \n",
    "cost = [] # you can use this list variable to help you create the loss versus epoch plot at the end(if you want)\n",
    "with tf.Session() as sess:\n",
    "    while i < n_epoch:\n",
    "        \n",
    "        dL_db0, dL_dw0 = computeGrad(X, y, theta)\n",
    "        dL_db = dL_db0.eval()\n",
    "        dL_dw = dL_dw0.eval()\n",
    "        #use feeddict to pass variables \n",
    "        b = theta[0]\n",
    "        w = theta[1]\n",
    "        # update rules go here...\n",
    "        # WRITEME: write your code here to perform a step of gradient descent & record anything else desired for later\n",
    "        b = b - alpha * dL_db\n",
    "        w = w - alpha * dL_dw\n",
    "        theta = (b,w) #overwriting theta\n",
    "        # (note: don't forget to override the theta variable...)\n",
    "        L = computeCost(X, y, theta).eval() # track our loss after performing a single step\n",
    "        if L < eps:\n",
    "            break\n",
    "        else:\n",
    "            cost.append(L)\n",
    "        if i % 20 == 0:\n",
    "            print(\" {0} L = {1}\".format(i,L))\n",
    "        i += 1\n",
    "        \n",
    "    #TODO\n",
    "    # print parameter values found after the search\n",
    "    print ('w=',w.eval())\n",
    "    print ('b=',b.eval())\n",
    "\n",
    "    #Save everything into saver object in tensorflow\n",
    "\n",
    "    #Visualize using tensorboard\n",
    "\n",
    "    kludge = 0.25 # helps with printing the plots (you can tweak this value if you like)\n",
    "    # visualize the fit against the data\n",
    "    X_test = tf.linspace(data.X.min(), data.X.max(), 100)\n",
    "    X_test = tf.expand_dims(X_test, axis=1)\n",
    "\n",
    "    plt.figure()\n",
    "    \n",
    "    ttt = sess.run(regress(X_test, theta))\n",
    "    X_test0 = X_test.eval()\n",
    "    \n",
    "    \n",
    "    \n",
    "    plt.plot(X_test0, ttt, label=\"Model\")\n",
    "    plt.scatter(X[:,0], y, edgecolor='g', s=20, label=\"Samples\")\n",
    "    plt.xlabel(\"x\")\n",
    "    plt.ylabel(\"y\")\n",
    "    plt.title(\"Linear model against Data Samples\")\n",
    "    plt.xlim((np.amin(X_test0) - kludge, np.amax(X_test0) + kludge))\n",
    "    plt.ylim((np.amin(y) - kludge, np.amax(y) + kludge))\n",
    "    plt.legend(loc=\"best\")\n",
    "    # WRITEME: write your code here to save plot to disk (look up documentation/inter-webs for matplotlib)\n",
    "    plt.savefig(os.getcwd() + '/DLAssign1Problem1/Linear model')\n",
    "    plt.show()\n",
    "    \n",
    "    \n",
    "    # visualize the loss as a function of passes through the dataset\n",
    "    # WRITEME: write your code here create and save a plot of loss versus epoch\n",
    "    plt.figure()\n",
    "    plt.plot(cost, color = 'b', label = \"Loss\")\n",
    "    plt.xlabel(\"epochs\")\n",
    "    plt.ylabel(\"cost\")\n",
    "    plt.title(\"Plot of Cost vs Epochs\")\n",
    "    plt.legend(loc=\"best\")\n",
    "    plt.savefig(os.getcwd() + '/DLAssign1Problem1/Cost vs Epoch')\n",
    "    plt.show() # convenience command to force plots to pop up on desktop\n"
   ]
  },
  {
   "cell_type": "code",
   "execution_count": null,
   "metadata": {},
   "outputs": [],
   "source": []
  }
 ],
 "metadata": {
  "kernelspec": {
   "display_name": "Python 2",
   "language": "python",
   "name": "python2"
  },
  "language_info": {
   "codemirror_mode": {
    "name": "ipython",
    "version": 2
   },
   "file_extension": ".py",
   "mimetype": "text/x-python",
   "name": "python",
   "nbconvert_exporter": "python",
   "pygments_lexer": "ipython2",
   "version": "2.7.13"
  }
 },
 "nbformat": 4,
 "nbformat_minor": 2
}
